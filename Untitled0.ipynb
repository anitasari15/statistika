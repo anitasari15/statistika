{
  "nbformat": 4,
  "nbformat_minor": 0,
  "metadata": {
    "colab": {
      "name": "Untitled0.ipynb",
      "version": "0.3.2",
      "provenance": [],
      "include_colab_link": true
    },
    "kernelspec": {
      "name": "python3",
      "display_name": "Python 3"
    }
  },
  "cells": [
    {
      "cell_type": "markdown",
      "metadata": {
        "id": "view-in-github",
        "colab_type": "text"
      },
      "source": [
        "<a href=\"https://colab.research.google.com/github/anitasari15/statistika/blob/master/Untitled0.ipynb\" target=\"_parent\"><img src=\"https://colab.research.google.com/assets/colab-badge.svg\" alt=\"Open In Colab\"/></a>"
      ]
    },
    {
      "cell_type": "code",
      "metadata": {
        "id": "N31em004hh2m",
        "colab_type": "code",
        "colab": {
          "base_uri": "https://localhost:8080/",
          "height": 34
        },
        "outputId": "36683387-c4f9-4758-af46-9ccf1ce431a0"
      },
      "source": [
        "data = [4112, 3913, 3572, 4803, 3809] \n",
        "mean = sum(data) / len(data) \n",
        "  \n",
        "print(\"mean dari data tersebut adalah \" + str(mean))\n"
      ],
      "execution_count": 1,
      "outputs": [
        {
          "output_type": "stream",
          "text": [
            "mean dari data tersebut adalah 4041.8\n"
          ],
          "name": "stdout"
        }
      ]
    },
    {
      "cell_type": "markdown",
      "metadata": {
        "id": "RfF9CcVeiDus",
        "colab_type": "text"
      },
      "source": [
        "PENYAJIAN DATA\n",
        "________________________________________\n",
        "Salah satu pembahasan dalam statistika deskriptif adalah teknik penyajian data. Data yang sudah kita kumpulkan dan sudah kita peroleh seyogyanya terorganisasi dengan baik, sehingga dapat disajikan dengan baik pula. Data yang tersaji dengan baik dapat dipahami dan bermakna bagi pengguna.\n",
        "________________________________________\n",
        "Jika data yang sudah diperoleh jumlahnya sangat banyak, maka cara yang baik untuk menganalisa nya adalah dengan mengorganisasi dan menyajikan data tersebut dalam bentuk yang ringkas dan padat. Sehingga membuat pengguna mudah dan cepat dalam membaca data tersebut. Organisasi data adalah proses penyusunan data di dalam kelompok atau kelas berdasarkan ciri-ciri tertentu. Berikut ini adalah tujuan organisasi data:\n",
        "1.\tMeringkas data mentah untuk tujuan analisis statistika\n",
        "2.\tMengurangi maslah kompleksitas data dan menyajikan sifat-sifat data\n",
        "3.\tMemudahkan untuk perbandingan dan membuat kesimpulan tentang data\n",
        "4.\tMenyediakan informasi tentang hubungan antara elemen di dalam sekelompok data\n",
        "5.\tMemudahkan kita dalam memisahkan elemen data ke dalam kelompok yang sama dan kemudian bisa mengelompokkan berdasarkan kesamaan dan ketidaksamaan elemen tersebut\n",
        "(Agus Widarjono)\n"
      ]
    },
    {
      "cell_type": "code",
      "metadata": {
        "id": "aVYKZCwbiEhV",
        "colab_type": "code",
        "colab": {}
      },
      "source": [
        ""
      ],
      "execution_count": 0,
      "outputs": []
    },
    {
      "cell_type": "markdown",
      "metadata": {
        "id": "CDFzzrH_iFgX",
        "colab_type": "text"
      },
      "source": [
        ""
      ]
    }
  ]
}